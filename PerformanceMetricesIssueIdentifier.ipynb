{
 "cells": [
  {
   "cell_type": "markdown",
   "id": "548d25b0-0c36-4fec-8996-db08397ffaf7",
   "metadata": {},
   "source": [
    "##### Import Dependencies"
   ]
  },
  {
   "cell_type": "code",
   "execution_count": 1,
   "id": "737a7f73-2cad-44e5-bbba-f2929bc0981b",
   "metadata": {},
   "outputs": [],
   "source": [
    "import pandas as pd\n",
    "import json\n",
    "import os\n",
    "import seaborn as sns\n",
    "import tensorflow as tf\n",
    "\n",
    "import numpy as np\n",
    "import pandas as pd\n",
    "import matplotlib.pyplot as plt\n",
    "from tensorflow import keras\n",
    "from keras.models import Sequential, load_model\n",
    "from keras.layers.core import Dense\n",
    "from keras.layers import LSTM, Input, Dropout, RepeatVector, TimeDistributed\n",
    "from keras import optimizers\n",
    "from keras.callbacks import EarlyStopping\n",
    "from sklearn.preprocessing import MinMaxScaler\n",
    "from sklearn.metrics import mean_squared_error, r2_score\n",
    "from math import sqrt\n",
    "import datetime as dt\n",
    "import time"
   ]
  },
  {
   "cell_type": "markdown",
   "id": "176777ca-b2aa-4510-a07a-957cd431be19",
   "metadata": {},
   "source": [
    "#### Logs Preprocessing Section"
   ]
  },
  {
   "cell_type": "markdown",
   "id": "ee877a26-a6e1-478d-ad4e-db290c73b964",
   "metadata": {},
   "source": [
    "##### Import Access Logs"
   ]
  },
  {
   "cell_type": "code",
   "execution_count": 2,
   "id": "96cd3059-464a-4342-9d5f-c0191cc73701",
   "metadata": {},
   "outputs": [],
   "source": [
    "data_folder = \"Data3\""
   ]
  },
  {
   "cell_type": "code",
   "execution_count": 3,
   "id": "666cec56-ede0-4df2-9440-c750752c69ae",
   "metadata": {},
   "outputs": [],
   "source": [
    "df_access_logs = pd.read_csv(data_folder + \"/logs/access.log\",\n",
    "                             skiprows=5,\n",
    "                             sep=\" \",\n",
    "                             names=['ClientIP', 'Empty', 'Empty1', 'Time', 'TimeOffset', 'HTTPData', 'HTTPStatus', 'Total Time'],\n",
    "                             usecols=[0, 1, 2, 3, 4, 5, 6, 7, 8],\n",
    "                             engine='python')\n",
    "\n",
    "new = df_access_logs.HTTPData.str.split(\" \", n = 2, expand = True)\n",
    "df_access_logs['URI'] = new[1]\n",
    "\n",
    "df_access_logs = df_access_logs.drop(['ClientIP','Empty', 'Empty1', 'TimeOffset', 'HTTPData'], axis = 1)"
   ]
  },
  {
   "cell_type": "markdown",
   "id": "fd9584e2-4bd9-4cf4-8100-75189acfee72",
   "metadata": {},
   "source": [
    "##### Import Error Logs"
   ]
  },
  {
   "cell_type": "code",
   "execution_count": 4,
   "id": "a4737584-bb6a-4fd7-ac6f-08990831f71e",
   "metadata": {},
   "outputs": [],
   "source": [
    "df_error_logs = pd.read_csv(data_folder + \"/logs/error.log\",\n",
    "                             sep=\"] \",\n",
    "                             names=[\"Time\", \"LogType\", \"Client\", 'Message'],\n",
    "                             usecols=[0, 1, 2, 3],\n",
    "                             engine='python')\n",
    "df_error_logs = df_error_logs.drop(['LogType','Client'], axis = 1)"
   ]
  },
  {
   "cell_type": "code",
   "execution_count": 5,
   "id": "74287216-4f7b-4298-96da-6c99c3b48878",
   "metadata": {},
   "outputs": [],
   "source": [
    "# Modifying the Time column and parsing as Datetime\n",
    "df_access_logs['Time'] = df_access_logs['Time'].apply(lambda x: str(x)[1:])\n",
    "df_error_logs['Time'] = df_error_logs['Time'].apply(lambda x: str(x)[1:])\n",
    "\n",
    "# Localized time in the timezone converting to the UTC\n",
    "df_access_logs['Time'] = pd.to_datetime(df_access_logs['Time'], format=\"%d/%b/%Y:%H:%M:%S\").dt.tz_localize('Asia/Kolkata').dt.tz_convert('UTC')\n",
    "df_error_logs['Time'] = pd.to_datetime(df_error_logs['Time'], format=\"%a %b %d %H:%M:%S %Y\").dt.tz_localize('Asia/Kolkata').dt.tz_convert('UTC')"
   ]
  },
  {
   "cell_type": "code",
   "execution_count": 6,
   "id": "7764a748-f5c4-49b1-b54e-841fdcbc57bb",
   "metadata": {},
   "outputs": [],
   "source": [
    "# Updaing the Elapesed total time column as numeric value and removing unncessary columns\n",
    "df_access_logs['Total Time'] = pd.to_numeric(df_access_logs['Total Time'], errors='coerce')\n",
    "df_access_logs['Total Time'] = df_access_logs['Total Time'].fillna(0)\n",
    "df_access_logs = df_access_logs.drop(df_access_logs[df_access_logs['HTTPStatus'] == 408].index)"
   ]
  },
  {
   "cell_type": "code",
   "execution_count": 7,
   "id": "076503ba-a175-4428-a3ab-e0ff8ca7c22c",
   "metadata": {},
   "outputs": [],
   "source": [
    "# Updating the index for the Access Logs DF\n",
    "df_access_logs.index = pd.to_datetime(df_access_logs['Time'])\n",
    "df_access_logs.index.rename('timeStamp', inplace=True)\n",
    "df_access_logs = df_access_logs.drop(['Time'], axis = 1)"
   ]
  },
  {
   "cell_type": "markdown",
   "id": "308679fd-7952-4afc-9e05-a3fe91a4565d",
   "metadata": {},
   "source": [
    "##### Visualizing the values of the Total Time column for visual inspection\n",
    "##### Cheking the data for different distributions"
   ]
  },
  {
   "cell_type": "code",
   "execution_count": 8,
   "id": "855e3c63-b129-4fee-b445-870476d99bed",
   "metadata": {},
   "outputs": [
    {
     "data": {
      "text/plain": [
       "<AxesSubplot:xlabel='timeStamp', ylabel='Total Time'>"
      ]
     },
     "execution_count": 8,
     "metadata": {},
     "output_type": "execute_result"
    },
    {
     "data": {
      "image/png": "[encoded data removed]",
      "text/plain": [
       "<Figure size 432x288 with 1 Axes>"
      ]
     },
     "metadata": {
      "needs_background": "light"
     },
     "output_type": "display_data"
    }
   ],
   "source": [
    "sns.lineplot(x=df_access_logs.index, y=df_access_logs['Total Time'])"
   ]
  },
  {
   "cell_type": "markdown",
   "id": "e7158363-10fb-42af-bfe7-65d2758ae218",
   "metadata": {},
   "source": [
    "##### Checking the failure Cases in the Data"
   ]
  },
  {
   "cell_type": "code",
   "execution_count": 10,
   "id": "a00e37de-499a-454e-8333-a1b00eb89831",
   "metadata": {},
   "outputs": [
    {
     "data": {
      "text/plain": [
       "array([200, 304, 500], dtype=int64)"
      ]
     },
     "execution_count": 10,
     "metadata": {},
     "output_type": "execute_result"
    }
   ],
   "source": [
    "df_access_logs.HTTPStatus.unique()"
   ]
  },
  {
   "cell_type": "code",
   "execution_count": 11,
   "id": "3942a47c-a50f-4d29-aa54-b0303627ef6c",
   "metadata": {},
   "outputs": [],
   "source": [
    "error_status_list = [500,501,502,503,400,401,402,404,408]\n",
    "df_error = df_access_logs[df_access_logs.HTTPStatus.isin(error_status_list)].dropna(axis=0)"
   ]
  },
  {
   "cell_type": "code",
   "execution_count": 12,
   "id": "58bcc597-052a-40b3-883e-f5254ba43465",
   "metadata": {},
   "outputs": [
    {
     "data": {
      "text/html": [
       "<div>\n",
       "<style scoped>\n",
       "    .dataframe tbody tr th:only-of-type {\n",
       "        vertical-align: middle;\n",
       "    }\n",
       "\n",
       "    .dataframe tbody tr th {\n",
       "        vertical-align: top;\n",
       "    }\n",
       "\n",
       "    .dataframe thead th {\n",
       "        text-align: right;\n",
       "    }\n",
       "</style>\n",
       "<table border=\"1\" class=\"dataframe\">\n",
       "  <thead>\n",
       "    <tr style=\"text-align: right;\">\n",
       "      <th></th>\n",
       "      <th>HTTPStatus</th>\n",
       "      <th>Total Time</th>\n",
       "      <th>URI</th>\n",
       "    </tr>\n",
       "    <tr>\n",
       "      <th>timeStamp</th>\n",
       "      <th></th>\n",
       "      <th></th>\n",
       "      <th></th>\n",
       "    </tr>\n",
       "  </thead>\n",
       "  <tbody>\n",
       "    <tr>\n",
       "      <th>2021-08-09 06:25:01+00:00</th>\n",
       "      <td>500</td>\n",
       "      <td>535.0</td>\n",
       "      <td>/cgi-bin/nav.pl?in=itinerary&amp;page=menu</td>\n",
       "    </tr>\n",
       "    <tr>\n",
       "      <th>2021-08-09 06:28:09+00:00</th>\n",
       "      <td>500</td>\n",
       "      <td>535.0</td>\n",
       "      <td>/cgi-bin/nav.pl?in=home&amp;page=menu</td>\n",
       "    </tr>\n",
       "  </tbody>\n",
       "</table>\n",
       "</div>"
      ],
      "text/plain": [
       "                           HTTPStatus  Total Time  \\\n",
       "timeStamp                                           \n",
       "2021-08-09 06:25:01+00:00         500       535.0   \n",
       "2021-08-09 06:28:09+00:00         500       535.0   \n",
       "\n",
       "                                                              URI  \n",
       "timeStamp                                                          \n",
       "2021-08-09 06:25:01+00:00  /cgi-bin/nav.pl?in=itinerary&page=menu  \n",
       "2021-08-09 06:28:09+00:00       /cgi-bin/nav.pl?in=home&page=menu  "
      ]
     },
     "execution_count": 12,
     "metadata": {},
     "output_type": "execute_result"
    }
   ],
   "source": [
    "df_error.head(5)"
   ]
  },
  {
   "cell_type": "markdown",
   "id": "4a288e7c-99c5-41c8-9919-600eb6862c3e",
   "metadata": {},
   "source": [
    "#### Metrics Preprocessing Section"
   ]
  },
  {
   "cell_type": "markdown",
   "id": "4b6c88e0-35b9-42f9-a274-2dc5d66c19d4",
   "metadata": {},
   "source": [
    "##### Importing metrices collected during the test"
   ]
  },
  {
   "cell_type": "code",
   "execution_count": 13,
   "id": "70ccc5c8-7083-4a9f-80a6-9b25072f36d0",
   "metadata": {},
   "outputs": [],
   "source": [
    "df_metrices = pd.read_csv(data_folder + \"/PerfmonData.csv\",\n",
    "                             skiprows = 1,\n",
    "                             sep=\",\",\n",
    "                             names=[\"timeStamp\",\"counter\",\"label\",\"responseCode\",\"responseMessage\",\"threadName\",\"dataType\",\"success\",\"failureMessage\",\"bytes\",\"sentBytes\",\"grpThreads\",\"allThreads\",\"URL\",\"Latency\",\"IdleTime\",\"Connect\"],\n",
    "                             usecols=[0, 1, 2, 3, 4, 5, 6, 7, 8, 9, 10, 11, 12, 13, 14, 15, 16],\n",
    "                             engine='python')\n",
    "\n",
    "df_metrices = df_metrices.drop([\"responseCode\",\"responseMessage\",\"threadName\",\"dataType\",\"success\",\"failureMessage\",\"bytes\",\"sentBytes\",\"grpThreads\",\"allThreads\",\"URL\",\"Latency\",\"IdleTime\",\"Connect\"], axis = 1)"
   ]
  },
  {
   "cell_type": "code",
   "execution_count": 14,
   "id": "3edcfa23-1ce6-456f-a048-0c53840ede36",
   "metadata": {},
   "outputs": [],
   "source": [
    "# Modifying the timestamp bases index and parsing to UTC\n",
    "df_metrices.timeStamp = pd.to_datetime(df_metrices.timeStamp, unit='ms').dt.tz_localize('UTC')\n",
    "df_metrices.index = df_metrices.timeStamp.apply(lambda x: x.replace(microsecond=0))\n",
    "df_metrices = df_metrices.drop(['timeStamp'], axis = 1)"
   ]
  },
  {
   "cell_type": "code",
   "execution_count": 15,
   "id": "83722f8f-69fa-4c3a-9ce9-ba20c13f6ea4",
   "metadata": {},
   "outputs": [
    {
     "data": {
      "text/html": [
       "<div>\n",
       "<style scoped>\n",
       "    .dataframe tbody tr th:only-of-type {\n",
       "        vertical-align: middle;\n",
       "    }\n",
       "\n",
       "    .dataframe tbody tr th {\n",
       "        vertical-align: top;\n",
       "    }\n",
       "\n",
       "    .dataframe thead th {\n",
       "        text-align: right;\n",
       "    }\n",
       "</style>\n",
       "<table border=\"1\" class=\"dataframe\">\n",
       "  <thead>\n",
       "    <tr style=\"text-align: right;\">\n",
       "      <th></th>\n",
       "      <th>counter</th>\n",
       "      <th>label</th>\n",
       "    </tr>\n",
       "    <tr>\n",
       "      <th>timeStamp</th>\n",
       "      <th></th>\n",
       "      <th></th>\n",
       "    </tr>\n",
       "  </thead>\n",
       "  <tbody>\n",
       "    <tr>\n",
       "      <th>2021-08-09 06:24:24+00:00</th>\n",
       "      <td>71006</td>\n",
       "      <td>localhost Memory</td>\n",
       "    </tr>\n",
       "    <tr>\n",
       "      <th>2021-08-09 06:24:24+00:00</th>\n",
       "      <td>18271</td>\n",
       "      <td>localhost CPU</td>\n",
       "    </tr>\n",
       "    <tr>\n",
       "      <th>2021-08-09 06:24:24+00:00</th>\n",
       "      <td>0</td>\n",
       "      <td>localhost Network I/O</td>\n",
       "    </tr>\n",
       "    <tr>\n",
       "      <th>2021-08-09 06:24:25+00:00</th>\n",
       "      <td>70976</td>\n",
       "      <td>localhost Memory</td>\n",
       "    </tr>\n",
       "    <tr>\n",
       "      <th>2021-08-09 06:24:25+00:00</th>\n",
       "      <td>14426</td>\n",
       "      <td>localhost CPU</td>\n",
       "    </tr>\n",
       "  </tbody>\n",
       "</table>\n",
       "</div>"
      ],
      "text/plain": [
       "                           counter                  label\n",
       "timeStamp                                                \n",
       "2021-08-09 06:24:24+00:00    71006       localhost Memory\n",
       "2021-08-09 06:24:24+00:00    18271          localhost CPU\n",
       "2021-08-09 06:24:24+00:00        0  localhost Network I/O\n",
       "2021-08-09 06:24:25+00:00    70976       localhost Memory\n",
       "2021-08-09 06:24:25+00:00    14426          localhost CPU"
      ]
     },
     "execution_count": 15,
     "metadata": {},
     "output_type": "execute_result"
    }
   ],
   "source": [
    "df_metrices.head(5)"
   ]
  },
  {
   "cell_type": "code",
   "execution_count": 16,
   "id": "75538f08-5139-4e73-ac61-1c8bb7ab6219",
   "metadata": {},
   "outputs": [],
   "source": [
    "# Segregating the three metrices from the data\n",
    "df_cpu = df_metrices[df_metrices.label == 'localhost CPU']\n",
    "df_network = df_metrices[df_metrices.label == 'localhost Network I/O']\n",
    "df_memory = df_metrices[df_metrices.label == 'localhost Memory']"
   ]
  },
  {
   "cell_type": "code",
   "execution_count": 17,
   "id": "9deb5b19-3336-4861-a177-b0fe9704383f",
   "metadata": {},
   "outputs": [],
   "source": [
    "# Flatening the data into the row index based\n",
    "df_cpu_mem = pd.merge(df_cpu, df_memory, left_index=True, right_index=True)\n",
    "df_cpu_mem_net = pd.merge(df_cpu_mem, df_network, left_index=True, right_index=True)"
   ]
  },
  {
   "cell_type": "code",
   "execution_count": 18,
   "id": "39275522-e1b0-4481-8778-1f5cbf1618b4",
   "metadata": {},
   "outputs": [
    {
     "data": {
      "text/html": [
       "<div>\n",
       "<style scoped>\n",
       "    .dataframe tbody tr th:only-of-type {\n",
       "        vertical-align: middle;\n",
       "    }\n",
       "\n",
       "    .dataframe tbody tr th {\n",
       "        vertical-align: top;\n",
       "    }\n",
       "\n",
       "    .dataframe thead th {\n",
       "        text-align: right;\n",
       "    }\n",
       "</style>\n",
       "<table border=\"1\" class=\"dataframe\">\n",
       "  <thead>\n",
       "    <tr style=\"text-align: right;\">\n",
       "      <th></th>\n",
       "      <th>CPU</th>\n",
       "      <th>Memory</th>\n",
       "      <th>IO</th>\n",
       "    </tr>\n",
       "    <tr>\n",
       "      <th>timeStamp</th>\n",
       "      <th></th>\n",
       "      <th></th>\n",
       "      <th></th>\n",
       "    </tr>\n",
       "  </thead>\n",
       "  <tbody>\n",
       "    <tr>\n",
       "      <th>2021-08-09 06:24:24+00:00</th>\n",
       "      <td>18271</td>\n",
       "      <td>71006</td>\n",
       "      <td>0</td>\n",
       "    </tr>\n",
       "    <tr>\n",
       "      <th>2021-08-09 06:24:25+00:00</th>\n",
       "      <td>14426</td>\n",
       "      <td>70976</td>\n",
       "      <td>1169000</td>\n",
       "    </tr>\n",
       "    <tr>\n",
       "      <th>2021-08-09 06:24:26+00:00</th>\n",
       "      <td>33532</td>\n",
       "      <td>71049</td>\n",
       "      <td>9583000</td>\n",
       "    </tr>\n",
       "    <tr>\n",
       "      <th>2021-08-09 06:24:27+00:00</th>\n",
       "      <td>22908</td>\n",
       "      <td>71034</td>\n",
       "      <td>1554000</td>\n",
       "    </tr>\n",
       "    <tr>\n",
       "      <th>2021-08-09 06:24:28+00:00</th>\n",
       "      <td>15067</td>\n",
       "      <td>71017</td>\n",
       "      <td>0</td>\n",
       "    </tr>\n",
       "  </tbody>\n",
       "</table>\n",
       "</div>"
      ],
      "text/plain": [
       "                             CPU  Memory       IO\n",
       "timeStamp                                        \n",
       "2021-08-09 06:24:24+00:00  18271   71006        0\n",
       "2021-08-09 06:24:25+00:00  14426   70976  1169000\n",
       "2021-08-09 06:24:26+00:00  33532   71049  9583000\n",
       "2021-08-09 06:24:27+00:00  22908   71034  1554000\n",
       "2021-08-09 06:24:28+00:00  15067   71017        0"
      ]
     },
     "execution_count": 18,
     "metadata": {},
     "output_type": "execute_result"
    }
   ],
   "source": [
    "# Cleaning renaming and checking the format\n",
    "df_metrices = df_cpu_mem_net.drop(['label_x','label_y', 'label'], axis=1)\n",
    "df_metrices.columns = ['CPU', 'Memory', 'IO']\n",
    "df_metrices.head(5)"
   ]
  },
  {
   "cell_type": "markdown",
   "id": "e137c818-4756-45dc-83a3-067bfe25a170",
   "metadata": {},
   "source": [
    "#### Test Results Preprocessing Section"
   ]
  },
  {
   "cell_type": "markdown",
   "id": "3dfabd14-7d49-4707-b0dc-27e2cbd37db7",
   "metadata": {},
   "source": [
    "##### Importing the File"
   ]
  },
  {
   "cell_type": "code",
   "execution_count": 19,
   "id": "33f0d68e-10b0-4014-adba-359286676e7c",
   "metadata": {},
   "outputs": [
    {
     "data": {
      "text/html": [
       "<div>\n",
       "<style scoped>\n",
       "    .dataframe tbody tr th:only-of-type {\n",
       "        vertical-align: middle;\n",
       "    }\n",
       "\n",
       "    .dataframe tbody tr th {\n",
       "        vertical-align: top;\n",
       "    }\n",
       "\n",
       "    .dataframe thead th {\n",
       "        text-align: right;\n",
       "    }\n",
       "</style>\n",
       "<table border=\"1\" class=\"dataframe\">\n",
       "  <thead>\n",
       "    <tr style=\"text-align: right;\">\n",
       "      <th></th>\n",
       "      <th>timeStamp</th>\n",
       "      <th>elapedTime</th>\n",
       "      <th>responseCode</th>\n",
       "      <th>success</th>\n",
       "      <th>URI</th>\n",
       "    </tr>\n",
       "  </thead>\n",
       "  <tbody>\n",
       "    <tr>\n",
       "      <th>0</th>\n",
       "      <td>1628490262987</td>\n",
       "      <td>586</td>\n",
       "      <td>200.0</td>\n",
       "      <td>True</td>\n",
       "      <td>NaN</td>\n",
       "    </tr>\n",
       "    <tr>\n",
       "      <th>1</th>\n",
       "      <td>1628490263179</td>\n",
       "      <td>88</td>\n",
       "      <td>200.0</td>\n",
       "      <td>True</td>\n",
       "      <td>http://localhost:2000/cgi-bin/login.pl</td>\n",
       "    </tr>\n",
       "    <tr>\n",
       "      <th>2</th>\n",
       "      <td>1628490263268</td>\n",
       "      <td>210</td>\n",
       "      <td>200.0</td>\n",
       "      <td>True</td>\n",
       "      <td>http://localhost:2000/cgi-bin/nav.pl?in=home&amp;p...</td>\n",
       "    </tr>\n",
       "    <tr>\n",
       "      <th>3</th>\n",
       "      <td>1628490263479</td>\n",
       "      <td>215</td>\n",
       "      <td>200.0</td>\n",
       "      <td>True</td>\n",
       "      <td>http://localhost:2000/cgi-bin/login.pl?intro=true</td>\n",
       "    </tr>\n",
       "    <tr>\n",
       "      <th>4</th>\n",
       "      <td>1628490263695</td>\n",
       "      <td>57</td>\n",
       "      <td>200.0</td>\n",
       "      <td>True</td>\n",
       "      <td>http://localhost:2000/WebTours/images/flights.gif</td>\n",
       "    </tr>\n",
       "  </tbody>\n",
       "</table>\n",
       "</div>"
      ],
      "text/plain": [
       "       timeStamp  elapedTime  responseCode  success  \\\n",
       "0  1628490262987         586         200.0     True   \n",
       "1  1628490263179          88         200.0     True   \n",
       "2  1628490263268         210         200.0     True   \n",
       "3  1628490263479         215         200.0     True   \n",
       "4  1628490263695          57         200.0     True   \n",
       "\n",
       "                                                 URI  \n",
       "0                                                NaN  \n",
       "1             http://localhost:2000/cgi-bin/login.pl  \n",
       "2  http://localhost:2000/cgi-bin/nav.pl?in=home&p...  \n",
       "3  http://localhost:2000/cgi-bin/login.pl?intro=true  \n",
       "4  http://localhost:2000/WebTours/images/flights.gif  "
      ]
     },
     "execution_count": 19,
     "metadata": {},
     "output_type": "execute_result"
    }
   ],
   "source": [
    "df_results = pd.read_csv(data_folder + \"/Metrices.csv\",\n",
    "                             skiprows = 1,\n",
    "                             sep=\",\",\n",
    "                             names=[\"timeStamp\",\"elapedTime\",\"label\",\"responseCode\",\"responseMessage\",\"threadName\",\"dataType\",\"success\",\"failureMessage\",\"bytes\",\"sentBytes\",\"grpThreads\",\"allThreads\",\"URI\",\"Latency\",\"IdleTime\",\"Connect\"],\n",
    "                             usecols=[0, 1, 2, 3, 4, 5, 6, 7, 8, 9, 10, 11, 12, 13, 14, 15, 16],\n",
    "                             engine='python')\n",
    "df_results = df_results.drop(['responseMessage', 'threadName', 'dataType', 'failureMessage', 'grpThreads', 'allThreads', 'Latency', 'IdleTime', 'Connect', 'bytes', 'sentBytes', 'label'], axis = 1)\n",
    "df_results.head(5)"
   ]
  },
  {
   "cell_type": "code",
   "execution_count": 20,
   "id": "709299fc-b24d-4431-876a-9359543dfbb1",
   "metadata": {},
   "outputs": [],
   "source": [
    "# Preprocessing the columns based on the values\n",
    "df_results = df_results.dropna(axis = 0)\n",
    "df_results['URI'] = df_results['URI'].apply(lambda x: x[21:])"
   ]
  },
  {
   "cell_type": "code",
   "execution_count": 21,
   "id": "3bda490b-9784-4a47-a08e-4ea5b06d6bdd",
   "metadata": {},
   "outputs": [],
   "source": [
    "# Changing the datatype of the response code to integer\n",
    "df_results['responseCode'] = df_results.responseCode.astype('int')"
   ]
  },
  {
   "cell_type": "code",
   "execution_count": 22,
   "id": "c09acdb4-8961-4e45-8088-3341d975c211",
   "metadata": {},
   "outputs": [
    {
     "data": {
      "text/plain": [
       "(80604, 4)"
      ]
     },
     "execution_count": 22,
     "metadata": {},
     "output_type": "execute_result"
    }
   ],
   "source": [
    "# CHanging the index of the dataframe to the timestamp based value and cleanup\n",
    "df_results.timeStamp = pd.to_datetime(df_results.timeStamp, unit='ms')\n",
    "df_results.index = df_results.timeStamp.apply(lambda x: x.replace(microsecond=0))\n",
    "df_results = df_results.drop(['timeStamp'], axis = 1)\n",
    "df_results.shape"
   ]
  },
  {
   "cell_type": "markdown",
   "id": "7c1cf0a9-af7a-4614-8c86-1567f2f97833",
   "metadata": {},
   "source": [
    "#### Mearging the Three Dataframes"
   ]
  },
  {
   "cell_type": "markdown",
   "id": "0e0edb48-5d26-4c36-8ff0-5eccecb8839c",
   "metadata": {},
   "source": [
    "##### Logs and Results"
   ]
  },
  {
   "cell_type": "code",
   "execution_count": 23,
   "id": "06a07919-ee2d-485e-aef8-c7db9267b446",
   "metadata": {},
   "outputs": [],
   "source": [
    "# Creating the common key for the databases to be merged on\n",
    "df_results[\"uristat\"] = df_results[\"URI\"] + '_'+ df_results[\"responseCode\"].astype(str)\n",
    "df_access_logs[\"uristat\"] = df_access_logs[\"URI\"] + '_'+ df_access_logs[\"HTTPStatus\"].astype(str)"
   ]
  },
  {
   "cell_type": "code",
   "execution_count": 24,
   "id": "c0e0f59c-acbb-4936-9456-42f7f3b5cac0",
   "metadata": {},
   "outputs": [],
   "source": [
    "# Updating the index type and sorting dataframes based on indexes\n",
    "df_results.index = df_results.index.astype('datetime64[ns, UTC]')\n",
    "df_results_sorted = df_results.sort_index(axis = 0)\n",
    "df_access_logs_sorted = df_access_logs.sort_index(axis = 0)"
   ]
  },
  {
   "cell_type": "code",
   "execution_count": 25,
   "id": "6b36af15-3c39-495e-ba79-c19f6233e951",
   "metadata": {},
   "outputs": [
    {
     "data": {
      "text/html": [
       "<div>\n",
       "<style scoped>\n",
       "    .dataframe tbody tr th:only-of-type {\n",
       "        vertical-align: middle;\n",
       "    }\n",
       "\n",
       "    .dataframe tbody tr th {\n",
       "        vertical-align: top;\n",
       "    }\n",
       "\n",
       "    .dataframe thead th {\n",
       "        text-align: right;\n",
       "    }\n",
       "</style>\n",
       "<table border=\"1\" class=\"dataframe\">\n",
       "  <thead>\n",
       "    <tr style=\"text-align: right;\">\n",
       "      <th></th>\n",
       "      <th>elapedTime</th>\n",
       "      <th>success</th>\n",
       "      <th>uristat</th>\n",
       "      <th>Total Time</th>\n",
       "    </tr>\n",
       "    <tr>\n",
       "      <th>timeStamp</th>\n",
       "      <th></th>\n",
       "      <th></th>\n",
       "      <th></th>\n",
       "      <th></th>\n",
       "    </tr>\n",
       "  </thead>\n",
       "  <tbody>\n",
       "    <tr>\n",
       "      <th>2021-08-09 06:24:23+00:00</th>\n",
       "      <td>88</td>\n",
       "      <td>True</td>\n",
       "      <td>/cgi-bin/login.pl_200</td>\n",
       "      <td>NaN</td>\n",
       "    </tr>\n",
       "    <tr>\n",
       "      <th>2021-08-09 06:24:23+00:00</th>\n",
       "      <td>210</td>\n",
       "      <td>True</td>\n",
       "      <td>/cgi-bin/nav.pl?in=home&amp;page=menu_200</td>\n",
       "      <td>NaN</td>\n",
       "    </tr>\n",
       "    <tr>\n",
       "      <th>2021-08-09 06:24:23+00:00</th>\n",
       "      <td>215</td>\n",
       "      <td>True</td>\n",
       "      <td>/cgi-bin/login.pl?intro=true_200</td>\n",
       "      <td>NaN</td>\n",
       "    </tr>\n",
       "    <tr>\n",
       "      <th>2021-08-09 06:24:23+00:00</th>\n",
       "      <td>57</td>\n",
       "      <td>True</td>\n",
       "      <td>/WebTours/images/flights.gif_200</td>\n",
       "      <td>NaN</td>\n",
       "    </tr>\n",
       "    <tr>\n",
       "      <th>2021-08-09 06:24:23+00:00</th>\n",
       "      <td>7</td>\n",
       "      <td>True</td>\n",
       "      <td>/WebTours/images/itinerary.gif_200</td>\n",
       "      <td>NaN</td>\n",
       "    </tr>\n",
       "  </tbody>\n",
       "</table>\n",
       "</div>"
      ],
      "text/plain": [
       "                           elapedTime  success  \\\n",
       "timeStamp                                        \n",
       "2021-08-09 06:24:23+00:00          88     True   \n",
       "2021-08-09 06:24:23+00:00         210     True   \n",
       "2021-08-09 06:24:23+00:00         215     True   \n",
       "2021-08-09 06:24:23+00:00          57     True   \n",
       "2021-08-09 06:24:23+00:00           7     True   \n",
       "\n",
       "                                                         uristat  Total Time  \n",
       "timeStamp                                                                     \n",
       "2021-08-09 06:24:23+00:00                  /cgi-bin/login.pl_200         NaN  \n",
       "2021-08-09 06:24:23+00:00  /cgi-bin/nav.pl?in=home&page=menu_200         NaN  \n",
       "2021-08-09 06:24:23+00:00       /cgi-bin/login.pl?intro=true_200         NaN  \n",
       "2021-08-09 06:24:23+00:00       /WebTours/images/flights.gif_200         NaN  \n",
       "2021-08-09 06:24:23+00:00     /WebTours/images/itinerary.gif_200         NaN  "
      ]
     },
     "execution_count": 25,
     "metadata": {},
     "output_type": "execute_result"
    }
   ],
   "source": [
    "# Combining bases on the timestamp and generated key and cleaning up colums\n",
    "combined = pd.merge_asof(df_results_sorted, df_access_logs_sorted, on='timeStamp', by='uristat')\n",
    "combined.index = combined.timeStamp\n",
    "combined = combined.drop(['URI_x','URI_y','responseCode', 'HTTPStatus', 'timeStamp'], axis = 1)\n",
    "combined.head(5)"
   ]
  },
  {
   "cell_type": "markdown",
   "id": "be5fd721-6f32-4e41-8545-bafe0cff1093",
   "metadata": {},
   "source": [
    "##### Merging Combined with Metrices"
   ]
  },
  {
   "cell_type": "code",
   "execution_count": 171,
   "id": "96546bdc-6d9d-416b-9ae0-dd8b4c60aa40",
   "metadata": {},
   "outputs": [
    {
     "data": {
      "text/html": [
       "<div>\n",
       "<style scoped>\n",
       "    .dataframe tbody tr th:only-of-type {\n",
       "        vertical-align: middle;\n",
       "    }\n",
       "\n",
       "    .dataframe tbody tr th {\n",
       "        vertical-align: top;\n",
       "    }\n",
       "\n",
       "    .dataframe thead th {\n",
       "        text-align: right;\n",
       "    }\n",
       "</style>\n",
       "<table border=\"1\" class=\"dataframe\">\n",
       "  <thead>\n",
       "    <tr style=\"text-align: right;\">\n",
       "      <th></th>\n",
       "      <th>elapedTime</th>\n",
       "      <th>success</th>\n",
       "      <th>uristat</th>\n",
       "      <th>Total Time</th>\n",
       "      <th>CPU</th>\n",
       "      <th>Memory</th>\n",
       "      <th>IO</th>\n",
       "    </tr>\n",
       "    <tr>\n",
       "      <th>timeStamp</th>\n",
       "      <th></th>\n",
       "      <th></th>\n",
       "      <th></th>\n",
       "      <th></th>\n",
       "      <th></th>\n",
       "      <th></th>\n",
       "      <th></th>\n",
       "    </tr>\n",
       "  </thead>\n",
       "  <tbody>\n",
       "    <tr>\n",
       "      <th>2021-08-09 06:24:25+00:00</th>\n",
       "      <td>227</td>\n",
       "      <td>True</td>\n",
       "      <td>/cgi-bin/nav.pl?in=itinerary&amp;page=menu_200</td>\n",
       "      <td>1482.0</td>\n",
       "      <td>14426</td>\n",
       "      <td>70976</td>\n",
       "      <td>1169000</td>\n",
       "    </tr>\n",
       "    <tr>\n",
       "      <th>2021-08-09 06:24:25+00:00</th>\n",
       "      <td>1928</td>\n",
       "      <td>True</td>\n",
       "      <td>/cgi-bin/itinerary.pl_200</td>\n",
       "      <td>7716521.0</td>\n",
       "      <td>14426</td>\n",
       "      <td>70976</td>\n",
       "      <td>1169000</td>\n",
       "    </tr>\n",
       "    <tr>\n",
       "      <th>2021-08-09 06:24:25+00:00</th>\n",
       "      <td>116</td>\n",
       "      <td>True</td>\n",
       "      <td>/cgi-bin/welcome.pl?page=itinerary_200</td>\n",
       "      <td>591.0</td>\n",
       "      <td>14426</td>\n",
       "      <td>70976</td>\n",
       "      <td>1169000</td>\n",
       "    </tr>\n",
       "    <tr>\n",
       "      <th>2021-08-09 06:24:27+00:00</th>\n",
       "      <td>46</td>\n",
       "      <td>True</td>\n",
       "      <td>/WebTours/images/cancelreservation.gif_200</td>\n",
       "      <td>831.0</td>\n",
       "      <td>22908</td>\n",
       "      <td>71034</td>\n",
       "      <td>1554000</td>\n",
       "    </tr>\n",
       "    <tr>\n",
       "      <th>2021-08-09 06:24:27+00:00</th>\n",
       "      <td>2</td>\n",
       "      <td>True</td>\n",
       "      <td>/WebTours/images/cancelallreservations.gif_200</td>\n",
       "      <td>742.0</td>\n",
       "      <td>22908</td>\n",
       "      <td>71034</td>\n",
       "      <td>1554000</td>\n",
       "    </tr>\n",
       "  </tbody>\n",
       "</table>\n",
       "</div>"
      ],
      "text/plain": [
       "                           elapedTime  success  \\\n",
       "timeStamp                                        \n",
       "2021-08-09 06:24:25+00:00         227     True   \n",
       "2021-08-09 06:24:25+00:00        1928     True   \n",
       "2021-08-09 06:24:25+00:00         116     True   \n",
       "2021-08-09 06:24:27+00:00          46     True   \n",
       "2021-08-09 06:24:27+00:00           2     True   \n",
       "\n",
       "                                                                  uristat  \\\n",
       "timeStamp                                                                   \n",
       "2021-08-09 06:24:25+00:00      /cgi-bin/nav.pl?in=itinerary&page=menu_200   \n",
       "2021-08-09 06:24:25+00:00                       /cgi-bin/itinerary.pl_200   \n",
       "2021-08-09 06:24:25+00:00          /cgi-bin/welcome.pl?page=itinerary_200   \n",
       "2021-08-09 06:24:27+00:00      /WebTours/images/cancelreservation.gif_200   \n",
       "2021-08-09 06:24:27+00:00  /WebTours/images/cancelallreservations.gif_200   \n",
       "\n",
       "                           Total Time    CPU  Memory       IO  \n",
       "timeStamp                                                      \n",
       "2021-08-09 06:24:25+00:00      1482.0  14426   70976  1169000  \n",
       "2021-08-09 06:24:25+00:00   7716521.0  14426   70976  1169000  \n",
       "2021-08-09 06:24:25+00:00       591.0  14426   70976  1169000  \n",
       "2021-08-09 06:24:27+00:00       831.0  22908   71034  1554000  \n",
       "2021-08-09 06:24:27+00:00       742.0  22908   71034  1554000  "
      ]
     },
     "execution_count": 171,
     "metadata": {},
     "output_type": "execute_result"
    }
   ],
   "source": [
    "df_final = combined.merge(df_metrices, on='timeStamp')\n",
    "df_final.head(5)"
   ]
  },
  {
   "cell_type": "markdown",
   "id": "995a255c-a0eb-4c6e-9feb-2cd16ebbae55",
   "metadata": {},
   "source": [
    "#### Selecting Specific Transaction for the further Processing"
   ]
  },
  {
   "cell_type": "code",
   "execution_count": 172,
   "id": "f475e3bd-e796-440c-8923-19f3d933d945",
   "metadata": {},
   "outputs": [
    {
     "data": {
      "text/html": [
       "<div>\n",
       "<style scoped>\n",
       "    .dataframe tbody tr th:only-of-type {\n",
       "        vertical-align: middle;\n",
       "    }\n",
       "\n",
       "    .dataframe tbody tr th {\n",
       "        vertical-align: top;\n",
       "    }\n",
       "\n",
       "    .dataframe thead th {\n",
       "        text-align: right;\n",
       "    }\n",
       "</style>\n",
       "<table border=\"1\" class=\"dataframe\">\n",
       "  <thead>\n",
       "    <tr style=\"text-align: right;\">\n",
       "      <th></th>\n",
       "      <th>elapedTime</th>\n",
       "      <th>success</th>\n",
       "      <th>uristat</th>\n",
       "      <th>Total Time</th>\n",
       "      <th>CPU</th>\n",
       "      <th>Memory</th>\n",
       "      <th>IO</th>\n",
       "    </tr>\n",
       "    <tr>\n",
       "      <th>timeStamp</th>\n",
       "      <th></th>\n",
       "      <th></th>\n",
       "      <th></th>\n",
       "      <th></th>\n",
       "      <th></th>\n",
       "      <th></th>\n",
       "      <th></th>\n",
       "    </tr>\n",
       "  </thead>\n",
       "  <tbody>\n",
       "    <tr>\n",
       "      <th>2021-08-09 06:24:25+00:00</th>\n",
       "      <td>1928</td>\n",
       "      <td>True</td>\n",
       "      <td>/cgi-bin/itinerary.pl_200</td>\n",
       "      <td>7716521.0</td>\n",
       "      <td>14426</td>\n",
       "      <td>70976</td>\n",
       "      <td>1169000</td>\n",
       "    </tr>\n",
       "    <tr>\n",
       "      <th>2021-08-09 06:24:29+00:00</th>\n",
       "      <td>1899</td>\n",
       "      <td>True</td>\n",
       "      <td>/cgi-bin/itinerary.pl_200</td>\n",
       "      <td>7716521.0</td>\n",
       "      <td>24761</td>\n",
       "      <td>71047</td>\n",
       "      <td>8596000</td>\n",
       "    </tr>\n",
       "    <tr>\n",
       "      <th>2021-08-09 06:24:30+00:00</th>\n",
       "      <td>1863</td>\n",
       "      <td>True</td>\n",
       "      <td>/cgi-bin/itinerary.pl_200</td>\n",
       "      <td>7716521.0</td>\n",
       "      <td>35354</td>\n",
       "      <td>71091</td>\n",
       "      <td>756000</td>\n",
       "    </tr>\n",
       "    <tr>\n",
       "      <th>2021-08-09 06:24:34+00:00</th>\n",
       "      <td>1989</td>\n",
       "      <td>True</td>\n",
       "      <td>/cgi-bin/itinerary.pl_200</td>\n",
       "      <td>7716521.0</td>\n",
       "      <td>31191</td>\n",
       "      <td>71054</td>\n",
       "      <td>0</td>\n",
       "    </tr>\n",
       "    <tr>\n",
       "      <th>2021-08-09 06:24:34+00:00</th>\n",
       "      <td>1799</td>\n",
       "      <td>True</td>\n",
       "      <td>/cgi-bin/itinerary.pl_200</td>\n",
       "      <td>7716521.0</td>\n",
       "      <td>31191</td>\n",
       "      <td>71054</td>\n",
       "      <td>0</td>\n",
       "    </tr>\n",
       "  </tbody>\n",
       "</table>\n",
       "</div>"
      ],
      "text/plain": [
       "                           elapedTime  success                    uristat  \\\n",
       "timeStamp                                                                   \n",
       "2021-08-09 06:24:25+00:00        1928     True  /cgi-bin/itinerary.pl_200   \n",
       "2021-08-09 06:24:29+00:00        1899     True  /cgi-bin/itinerary.pl_200   \n",
       "2021-08-09 06:24:30+00:00        1863     True  /cgi-bin/itinerary.pl_200   \n",
       "2021-08-09 06:24:34+00:00        1989     True  /cgi-bin/itinerary.pl_200   \n",
       "2021-08-09 06:24:34+00:00        1799     True  /cgi-bin/itinerary.pl_200   \n",
       "\n",
       "                           Total Time    CPU  Memory       IO  \n",
       "timeStamp                                                      \n",
       "2021-08-09 06:24:25+00:00   7716521.0  14426   70976  1169000  \n",
       "2021-08-09 06:24:29+00:00   7716521.0  24761   71047  8596000  \n",
       "2021-08-09 06:24:30+00:00   7716521.0  35354   71091   756000  \n",
       "2021-08-09 06:24:34+00:00   7716521.0  31191   71054        0  \n",
       "2021-08-09 06:24:34+00:00   7716521.0  31191   71054        0  "
      ]
     },
     "execution_count": 172,
     "metadata": {},
     "output_type": "execute_result"
    }
   ],
   "source": [
    "#df_final = df_final[df_final.uristat == '/cgi-bin/welcome.pl?page=itinerary_200']\n",
    "#df_final = df_final[df_final.uristat == '/cgi-bin/nav.pl?in=itinerary&page=menu_200']\n",
    "df_final = df_final[df_final.uristat == '/cgi-bin/itinerary.pl_200']\n",
    "df_final.head(5)"
   ]
  },
  {
   "cell_type": "code",
   "execution_count": 173,
   "id": "6a5d150e-edb9-4f96-9ca9-c5391d81b490",
   "metadata": {},
   "outputs": [
    {
     "data": {
      "text/plain": [
       "(4660, 7)"
      ]
     },
     "execution_count": 173,
     "metadata": {},
     "output_type": "execute_result"
    }
   ],
   "source": [
    "df_final.shape"
   ]
  },
  {
   "cell_type": "markdown",
   "id": "7ab08d15-c713-4d76-9886-46da44f0ad52",
   "metadata": {},
   "source": [
    "##### Data wrangling"
   ]
  },
  {
   "cell_type": "code",
   "execution_count": 174,
   "id": "6992cff6-2463-4b42-b287-eacc1c15469d",
   "metadata": {},
   "outputs": [
    {
     "data": {
      "text/html": [
       "<div>\n",
       "<style scoped>\n",
       "    .dataframe tbody tr th:only-of-type {\n",
       "        vertical-align: middle;\n",
       "    }\n",
       "\n",
       "    .dataframe tbody tr th {\n",
       "        vertical-align: top;\n",
       "    }\n",
       "\n",
       "    .dataframe thead th {\n",
       "        text-align: right;\n",
       "    }\n",
       "</style>\n",
       "<table border=\"1\" class=\"dataframe\">\n",
       "  <thead>\n",
       "    <tr style=\"text-align: right;\">\n",
       "      <th></th>\n",
       "      <th>elapedTime</th>\n",
       "      <th>CPU</th>\n",
       "      <th>Memory</th>\n",
       "      <th>IO</th>\n",
       "    </tr>\n",
       "  </thead>\n",
       "  <tbody>\n",
       "    <tr>\n",
       "      <th>elapedTime</th>\n",
       "      <td>1.000000</td>\n",
       "      <td>0.134543</td>\n",
       "      <td>0.242898</td>\n",
       "      <td>0.118226</td>\n",
       "    </tr>\n",
       "    <tr>\n",
       "      <th>CPU</th>\n",
       "      <td>0.134543</td>\n",
       "      <td>1.000000</td>\n",
       "      <td>0.070433</td>\n",
       "      <td>0.012871</td>\n",
       "    </tr>\n",
       "    <tr>\n",
       "      <th>Memory</th>\n",
       "      <td>0.242898</td>\n",
       "      <td>0.070433</td>\n",
       "      <td>1.000000</td>\n",
       "      <td>0.173761</td>\n",
       "    </tr>\n",
       "    <tr>\n",
       "      <th>IO</th>\n",
       "      <td>0.118226</td>\n",
       "      <td>0.012871</td>\n",
       "      <td>0.173761</td>\n",
       "      <td>1.000000</td>\n",
       "    </tr>\n",
       "  </tbody>\n",
       "</table>\n",
       "</div>"
      ],
      "text/plain": [
       "            elapedTime       CPU    Memory        IO\n",
       "elapedTime    1.000000  0.134543  0.242898  0.118226\n",
       "CPU           0.134543  1.000000  0.070433  0.012871\n",
       "Memory        0.242898  0.070433  1.000000  0.173761\n",
       "IO            0.118226  0.012871  0.173761  1.000000"
      ]
     },
     "execution_count": 174,
     "metadata": {},
     "output_type": "execute_result"
    }
   ],
   "source": [
    "df_final = df_final.drop(['success', 'Total Time', 'uristat'], axis = 1)\n",
    "df_final.corr()"
   ]
  },
  {
   "cell_type": "code",
   "execution_count": 175,
   "id": "bbc80c20-dcd3-49c8-83de-ebae235e5d11",
   "metadata": {},
   "outputs": [
    {
     "data": {
      "text/plain": [
       "(4660, 4)"
      ]
     },
     "execution_count": 175,
     "metadata": {},
     "output_type": "execute_result"
    }
   ],
   "source": [
    "df_final.index = df_final.index.tz_localize(None)\n",
    "df_final.shape"
   ]
  },
  {
   "cell_type": "code",
   "execution_count": 176,
   "id": "f5be447c-9356-42d2-9fea-e1100c527e26",
   "metadata": {},
   "outputs": [],
   "source": [
    "# Normalisation\n",
    "sc = MinMaxScaler()\n",
    "\n",
    "df_final[[\"elapedTime\", 'CPU', 'Memory', 'IO']] = sc.fit_transform(\n",
    "    df_final[[\"elapedTime\", 'CPU', 'Memory', 'IO']])"
   ]
  },
  {
   "cell_type": "code",
   "execution_count": 177,
   "id": "814945a0-b891-4ed3-97db-6f429c7d990c",
   "metadata": {},
   "outputs": [
    {
     "data": {
      "text/plain": [
       "(4660, 1)"
      ]
     },
     "execution_count": 177,
     "metadata": {},
     "output_type": "execute_result"
    }
   ],
   "source": [
    "df_final = pd.DataFrame(df_final['elapedTime'])\n",
    "df_final.shape"
   ]
  },
  {
   "cell_type": "code",
   "execution_count": 178,
   "id": "01f2f63c-07b1-4f6e-a1cb-48dfdd48d3fa",
   "metadata": {},
   "outputs": [],
   "source": [
    "def unroll(data,sequence_length=24):\n",
    "    result = []\n",
    "    for index in range(len(data) - sequence_length):\n",
    "        result.append(data[index: index + sequence_length])\n",
    "    return np.asarray(result)"
   ]
  },
  {
   "cell_type": "code",
   "execution_count": 179,
   "id": "fa55b022-6e96-464a-9a86-60b169418bfb",
   "metadata": {},
   "outputs": [],
   "source": [
    "x_train = []\n",
    "y_train = []\n",
    "x_val = []\n",
    "y_val = []\n",
    "x_test = []\n",
    "y_test = []"
   ]
  },
  {
   "cell_type": "code",
   "execution_count": 180,
   "id": "68c85db3-e641-4fa8-9fe0-eb899bc61841",
   "metadata": {},
   "outputs": [
    {
     "name": "stdout",
     "output_type": "stream",
     "text": [
      "(2643, 1) (2643,) (2643, 1) (1099, 1) (1099,) (1099, 1) (918, 1) (918,) (918, 1)\n"
     ]
    }
   ],
   "source": [
    "# Train Val Test Split\n",
    "train_start = dt.datetime.strptime('2021-08-09 06:24:25', '%Y-%m-%d %H:%M:%S')\n",
    "train_end = dt.datetime.strptime('2021-08-09 06:48:25', '%Y-%m-%d %H:%M:%S')\n",
    "X_train = df_final.loc[train_start:train_end].values\n",
    "Y_train = df_final.loc[train_start:train_end]['elapedTime'].values\n",
    "X_train_df = df_final[(df_final.index >= train_start) & (df_final.index <=  train_end)]\n",
    "\n",
    "val_start = dt.datetime.strptime('2021-08-09 06:48:26', '%Y-%m-%d %H:%M:%S')\n",
    "val_end = dt.datetime.strptime('2021-08-09 06:57:25', '%Y-%m-%d %H:%M:%S')\n",
    "X_val = df_final.loc[val_start:val_end].values\n",
    "Y_val = df_final.loc[val_start:val_end]['elapedTime'].values\n",
    "X_val_df = df_final[(df_final.index >= val_start) & (df_final.index <=  val_end)]\n",
    "\n",
    "test_start = dt.datetime.strptime('2021-08-09 06:57:26', '%Y-%m-%d %H:%M:%S')\n",
    "test_end = dt.datetime.strptime('2021-08-09 07:06:10', '%Y-%m-%d %H:%M:%S')\n",
    "X_test = df_final.loc[test_start:test_end].values\n",
    "Y_test = df_final.loc[test_start:test_end]['elapedTime'].values\n",
    "X_test_df = df_final[(df_final.index >= test_start) & (df_final.index <=  test_end)]\n",
    "\n",
    "print(X_train.shape,Y_train.shape, X_train_df.shape, X_val.shape,Y_val.shape,X_val_df.shape, X_test.shape,Y_test.shape,X_test_df.shape)"
   ]
  },
  {
   "cell_type": "code",
   "execution_count": 181,
   "id": "40d85871-715b-44aa-aeb7-704f6c4bfb0f",
   "metadata": {},
   "outputs": [],
   "source": [
    "seq_size = 50\n",
    "x_train = unroll(X_train,seq_size)\n",
    "x_val = unroll(X_val,seq_size)\n",
    "x_test  = unroll(X_test,seq_size)\n",
    "\n",
    "y_train = Y_train[-x_train.shape[0]:]\n",
    "y_val = Y_val[-x_val.shape[0]:]\n",
    "y_test  = Y_test[-x_test.shape[0]:]"
   ]
  },
  {
   "cell_type": "code",
   "execution_count": 182,
   "id": "cd09c3cb-6840-4370-a4f2-af11c0b0a311",
   "metadata": {},
   "outputs": [
    {
     "name": "stdout",
     "output_type": "stream",
     "text": [
      "(2593, 50, 1) (2593,) (1049, 50, 1) (1049,) (868, 50, 1) (868,)\n"
     ]
    }
   ],
   "source": [
    "print(x_train.shape,y_train.shape, x_val.shape,y_val.shape, x_test.shape, y_test.shape)"
   ]
  },
  {
   "cell_type": "markdown",
   "id": "5c193cee-d1df-4373-beac-d94c3e2ee835",
   "metadata": {},
   "source": [
    "#### Model"
   ]
  },
  {
   "cell_type": "code",
   "execution_count": 130,
   "id": "d954f38d-ff8d-4b33-ad86-c7249b5ea69b",
   "metadata": {},
   "outputs": [
    {
     "name": "stdout",
     "output_type": "stream",
     "text": [
      "Model: \"sequential_3\"\n",
      "_________________________________________________________________\n",
      "Layer (type)                 Output Shape              Param #   \n",
      "=================================================================\n",
      "lstm_6 (LSTM)                (None, 128)               66560     \n",
      "_________________________________________________________________\n",
      "dropout_6 (Dropout)          (None, 128)               0         \n",
      "_________________________________________________________________\n",
      "repeat_vector_3 (RepeatVecto (None, 50, 128)           0         \n",
      "_________________________________________________________________\n",
      "lstm_7 (LSTM)                (None, 50, 128)           131584    \n",
      "_________________________________________________________________\n",
      "dropout_7 (Dropout)          (None, 50, 128)           0         \n",
      "_________________________________________________________________\n",
      "time_distributed_3 (TimeDist (None, 50, 1)             129       \n",
      "=================================================================\n",
      "Total params: 198,273\n",
      "Trainable params: 198,273\n",
      "Non-trainable params: 0\n",
      "_________________________________________________________________\n"
     ]
    }
   ],
   "source": [
    "model = Sequential()\n",
    "model.add(LSTM(128, input_shape=(x_train.shape[1], x_train.shape[2])))\n",
    "model.add(Dropout(rate=0.2))\n",
    "model.add(RepeatVector(x_train.shape[1]))\n",
    "model.add(LSTM(128, return_sequences=True))\n",
    "model.add(Dropout(rate=0.2))\n",
    "model.add(TimeDistributed(Dense(x_train.shape[2])))\n",
    "model.compile(optimizer='adam', loss='mae')\n",
    "model.summary()"
   ]
  },
  {
   "cell_type": "code",
   "execution_count": 157,
   "id": "77e50b37-ba40-499c-9c2b-725ed8b8ab23",
   "metadata": {},
   "outputs": [
    {
     "name": "stdout",
     "output_type": "stream",
     "text": [
      "Epoch 1/100\n",
      "81/81 [==============================] - 7s 92ms/step - loss: 0.0392 - val_loss: 0.0287\n",
      "Epoch 2/100\n",
      "81/81 [==============================] - 8s 96ms/step - loss: 0.0387 - val_loss: 0.0286\n",
      "Epoch 3/100\n",
      "81/81 [==============================] - 6s 76ms/step - loss: 0.0385 - val_loss: 0.0287\n",
      "Epoch 4/100\n",
      "81/81 [==============================] - 6s 75ms/step - loss: 0.0386 - val_loss: 0.0287\n",
      "Epoch 5/100\n",
      "81/81 [==============================] - 6s 76ms/step - loss: 0.0388 - val_loss: 0.0288\n"
     ]
    }
   ],
   "source": [
    "history = model.fit(x_train, y_train, epochs=100, batch_size=32, validation_data = (x_val, y_val),\n",
    "                    callbacks=[keras.callbacks.EarlyStopping(monitor='val_loss', patience=3, mode='min')], shuffle=False)"
   ]
  },
  {
   "cell_type": "code",
   "execution_count": 132,
   "id": "78ea5540-4d87-42db-91d1-6b8ee0a366b2",
   "metadata": {},
   "outputs": [],
   "source": [
    "model.reset_states()"
   ]
  },
  {
   "cell_type": "code",
   "execution_count": 133,
   "id": "d9447e18-16fa-4172-9896-1189a39c535b",
   "metadata": {},
   "outputs": [],
   "source": [
    "model,train_error,val_error = model, history.history['loss'], history.history['val_loss']"
   ]
  },
  {
   "cell_type": "code",
   "execution_count": 134,
   "id": "e5373b19-fcad-46eb-9553-8c22db63a3be",
   "metadata": {},
   "outputs": [],
   "source": [
    "# Plotting the training errors\n",
    "def plot_error(train_loss,val_loss):\n",
    "    plt.plot(train_loss,c = 'r')\n",
    "    plt.plot(val_loss,c = 'b')\n",
    "    plt.ylabel('Loss')\n",
    "    plt.legend(['train','val'],loc = 'upper right')\n",
    "    plt.show()"
   ]
  },
  {
   "cell_type": "code",
   "execution_count": 135,
   "id": "49a616f3-286b-4d6e-baf2-1d402a3e7fe6",
   "metadata": {},
   "outputs": [],
   "source": [
    "# Plotting the predictions\n",
    "def plot_data(Y_test,Y_hat):\n",
    "    plt.plot(Y_test,c = 'r')\n",
    "    plt.plot(Y_hat,c = 'y')\n",
    "    plt.xlabel('Time')\n",
    "    plt.ylabel('Value')\n",
    "    plt.title('Prediction Graph using Multivariate-LSTM model')\n",
    "    plt.legend(['Actual','Predicted'],loc = 'lower right')\n",
    "    plt.show()"
   ]
  },
  {
   "cell_type": "code",
   "execution_count": 136,
   "id": "c9f2ee2a-ad7c-42b4-b4e5-42c37a4221b5",
   "metadata": {},
   "outputs": [
    {
     "data": {
      "image/png": "[encoded data removed]",
      "text/plain": [
       "<Figure size 432x288 with 1 Axes>"
      ]
     },
     "metadata": {
      "needs_background": "light"
     },
     "output_type": "display_data"
    }
   ],
   "source": [
    "plot_error(train_error,val_error)"
   ]
  },
  {
   "cell_type": "code",
   "execution_count": 137,
   "id": "f8847e4d-9a49-4512-bb8f-ce55e147e0a1",
   "metadata": {
    "tags": []
   },
   "outputs": [
    {
     "name": "stdout",
     "output_type": "stream",
     "text": [
      "Reconstruction error threshold: 0.2678517222639247\n"
     ]
    },
    {
     "data": {
      "image/png": "[encoded data removed]",
      "text/plain": [
       "<Figure size 432x288 with 1 Axes>"
      ]
     },
     "metadata": {
      "needs_background": "light"
     },
     "output_type": "display_data"
    }
   ],
   "source": [
    "test_predict = model.predict(x_test)\n",
    "test_mae_loss = np.mean(np.abs(test_predict - x_test), axis=1)\n",
    "\n",
    "plt.hist(test_mae_loss, bins=50)\n",
    "plt.xlabel('Test MAE loss')\n",
    "plt.ylabel('Number of Samples');\n",
    "\n",
    "threshold = np.max(test_mae_loss)\n",
    "print(f'Reconstruction error threshold: {threshold}')"
   ]
  },
  {
   "cell_type": "code",
   "execution_count": 138,
   "id": "88760aa4-85fe-45f1-8b0f-0716c4356597",
   "metadata": {
    "tags": []
   },
   "outputs": [
    {
     "data": {
      "image/png": "[encoded data removed]",
      "text/plain": [
       "<Figure size 432x288 with 1 Axes>"
      ]
     },
     "metadata": {
      "needs_background": "light"
     },
     "output_type": "display_data"
    }
   ],
   "source": [
    "train_predict = model.predict(x_train)\n",
    "train_mea_loss = np.mean(np.abs(train_predict - x_train), axis=1)\n",
    "plt.hist(train_mea_loss, bins=50)\n",
    "max_train_mae = 0.26"
   ]
  },
  {
   "cell_type": "code",
   "execution_count": 139,
   "id": "de689e82-b090-41f0-939c-6903387dbd1f",
   "metadata": {},
   "outputs": [
    {
     "data": {
      "image/png": "[encoded data removed]",
      "text/plain": [
       "<Figure size 432x288 with 1 Axes>"
      ]
     },
     "metadata": {
      "needs_background": "light"
     },
     "output_type": "display_data"
    }
   ],
   "source": [
    "test_predicted_avg = np.mean(np.abs(y_hat), axis=1)\n",
    "plot_data(y_test,test_predicted_avg)"
   ]
  },
  {
   "cell_type": "code",
   "execution_count": 142,
   "id": "ad1cad2b-98c7-49c2-95f3-388263cffaca",
   "metadata": {},
   "outputs": [],
   "source": [
    "error_df = pd.DataFrame(X_test_df[seq_size:])\n",
    "error_df['test_mae'] = test_mae_loss\n",
    "error_df['max_train_mae'] = max_train_mae\n",
    "error_df['anomaly'] = error_df['test_mae'] > error_df['max_train_mae']\n",
    "error_df['elapedTime'] = X_test_df[seq_size:]['elapedTime']"
   ]
  },
  {
   "cell_type": "code",
   "execution_count": 143,
   "id": "50e7207d-81aa-481c-a88e-8a2e7f4e834b",
   "metadata": {},
   "outputs": [
    {
     "data": {
      "text/plain": [
       "<AxesSubplot:xlabel='timeStamp', ylabel='test_mae'>"
      ]
     },
     "execution_count": 143,
     "metadata": {},
     "output_type": "execute_result"
    },
    {
     "data": {
      "image/png": "[encoded data removed]",
      "text/plain": [
       "<Figure size 432x288 with 1 Axes>"
      ]
     },
     "metadata": {
      "needs_background": "light"
     },
     "output_type": "display_data"
    }
   ],
   "source": [
    "sns.lineplot(x=error_df.index, y=error_df['test_mae'])\n",
    "sns.lineplot(x=error_df.index, y=error_df['max_train_mae'])"
   ]
  },
  {
   "cell_type": "code",
   "execution_count": 144,
   "id": "22bbdabd-043b-4000-a284-306e40ebbdc0",
   "metadata": {},
   "outputs": [
    {
     "data": {
      "text/html": [
       "<div>\n",
       "<style scoped>\n",
       "    .dataframe tbody tr th:only-of-type {\n",
       "        vertical-align: middle;\n",
       "    }\n",
       "\n",
       "    .dataframe tbody tr th {\n",
       "        vertical-align: top;\n",
       "    }\n",
       "\n",
       "    .dataframe thead th {\n",
       "        text-align: right;\n",
       "    }\n",
       "</style>\n",
       "<table border=\"1\" class=\"dataframe\">\n",
       "  <thead>\n",
       "    <tr style=\"text-align: right;\">\n",
       "      <th></th>\n",
       "      <th>elapedTime</th>\n",
       "      <th>test_mae</th>\n",
       "      <th>max_train_mae</th>\n",
       "      <th>anomaly</th>\n",
       "    </tr>\n",
       "    <tr>\n",
       "      <th>timeStamp</th>\n",
       "      <th></th>\n",
       "      <th></th>\n",
       "      <th></th>\n",
       "      <th></th>\n",
       "    </tr>\n",
       "  </thead>\n",
       "  <tbody>\n",
       "    <tr>\n",
       "      <th>2021-08-09 07:04:38</th>\n",
       "      <td>0.630744</td>\n",
       "      <td>0.267852</td>\n",
       "      <td>0.26</td>\n",
       "      <td>True</td>\n",
       "    </tr>\n",
       "  </tbody>\n",
       "</table>\n",
       "</div>"
      ],
      "text/plain": [
       "                     elapedTime  test_mae  max_train_mae  anomaly\n",
       "timeStamp                                                        \n",
       "2021-08-09 07:04:38    0.630744  0.267852           0.26     True"
      ]
     },
     "execution_count": 144,
     "metadata": {},
     "output_type": "execute_result"
    }
   ],
   "source": [
    "error_df[error_df.anomaly == True]"
   ]
  },
  {
   "cell_type": "markdown",
   "id": "d689ca45-80de-4f6b-8e51-0306a7a2d80b",
   "metadata": {},
   "source": [
    "#### Second Transaction"
   ]
  },
  {
   "cell_type": "code",
   "execution_count": 158,
   "id": "a6c58aa4-8809-4df2-8f81-23318dc9c1dc",
   "metadata": {},
   "outputs": [],
   "source": [
    "model.reset_states()"
   ]
  },
  {
   "cell_type": "code",
   "execution_count": 159,
   "id": "61accabf-22fb-441d-ae81-efede91f5214",
   "metadata": {},
   "outputs": [],
   "source": [
    "model,train_error,val_error = model, history.history['loss'], history.history['val_loss']"
   ]
  },
  {
   "cell_type": "code",
   "execution_count": 160,
   "id": "241ef43f-ecb4-4556-a68f-df63f568ef73",
   "metadata": {},
   "outputs": [
    {
     "data": {
      "image/png": "[encoded data removed]",
      "text/plain": [
       "<Figure size 432x288 with 1 Axes>"
      ]
     },
     "metadata": {
      "needs_background": "light"
     },
     "output_type": "display_data"
    }
   ],
   "source": [
    "plot_error(train_error,val_error)"
   ]
  },
  {
   "cell_type": "code",
   "execution_count": 162,
   "id": "091a0601-ebf0-4c74-9135-1c999ff0ea07",
   "metadata": {},
   "outputs": [
    {
     "name": "stdout",
     "output_type": "stream",
     "text": [
      "Reconstruction error threshold: 0.1419731656437606\n"
     ]
    },
    {
     "data": {
      "image/png": "[encoded data removed]",
      "text/plain": [
       "<Figure size 432x288 with 1 Axes>"
      ]
     },
     "metadata": {
      "needs_background": "light"
     },
     "output_type": "display_data"
    }
   ],
   "source": [
    "test_predict = model.predict(x_test)\n",
    "test_mae_loss = np.mean(np.abs(test_predict - x_test), axis=1)\n",
    "\n",
    "plt.hist(test_mae_loss, bins=50)\n",
    "plt.xlabel('Test MAE loss')\n",
    "plt.ylabel('Number of Samples');\n",
    "\n",
    "threshold = np.max(test_mae_loss)\n",
    "print(f'Reconstruction error threshold: {threshold}')"
   ]
  },
  {
   "cell_type": "code",
   "execution_count": 163,
   "id": "f658c328-d982-4025-ac7b-d309838a18db",
   "metadata": {},
   "outputs": [
    {
     "data": {
      "image/png": "[encoded data removed]",
      "text/plain": [
       "<Figure size 432x288 with 1 Axes>"
      ]
     },
     "metadata": {
      "needs_background": "light"
     },
     "output_type": "display_data"
    }
   ],
   "source": [
    "train_predict = model.predict(x_train)\n",
    "train_mea_loss = np.mean(np.abs(train_predict - x_train), axis=1)\n",
    "plt.hist(train_mea_loss, bins=50)\n",
    "max_train_mae = 0.14"
   ]
  },
  {
   "cell_type": "code",
   "execution_count": 164,
   "id": "c4309adf-ca55-4d08-933d-9c2ad62b9cb4",
   "metadata": {},
   "outputs": [
    {
     "data": {
      "image/png": "[encoded data removed]",
      "text/plain": [
       "<Figure size 432x288 with 1 Axes>"
      ]
     },
     "metadata": {
      "needs_background": "light"
     },
     "output_type": "display_data"
    }
   ],
   "source": [
    "test_predicted_avg = np.mean(np.abs(y_hat), axis=1)\n",
    "plot_data(y_test,test_predicted_avg)"
   ]
  },
  {
   "cell_type": "code",
   "execution_count": 165,
   "id": "2e2ecbab-e257-40c1-b885-6069a3a4e32a",
   "metadata": {},
   "outputs": [],
   "source": [
    "error_df = pd.DataFrame(X_test_df[seq_size:])\n",
    "error_df['test_mae'] = test_mae_loss\n",
    "error_df['max_train_mae'] = max_train_mae\n",
    "error_df['anomaly'] = error_df['test_mae'] > error_df['max_train_mae']\n",
    "error_df['elapedTime'] = X_test_df[seq_size:]['elapedTime']"
   ]
  },
  {
   "cell_type": "code",
   "execution_count": 166,
   "id": "d8e30dee-5534-4f77-a7a8-c79682608748",
   "metadata": {},
   "outputs": [
    {
     "data": {
      "text/plain": [
       "<AxesSubplot:xlabel='timeStamp', ylabel='test_mae'>"
      ]
     },
     "execution_count": 166,
     "metadata": {},
     "output_type": "execute_result"
    },
    {
     "data": {
      "image/png": "[encoded data removed]",
      "text/plain": [
       "<Figure size 432x288 with 1 Axes>"
      ]
     },
     "metadata": {
      "needs_background": "light"
     },
     "output_type": "display_data"
    }
   ],
   "source": [
    "sns.lineplot(x=error_df.index, y=error_df['test_mae'])\n",
    "sns.lineplot(x=error_df.index, y=error_df['max_train_mae'])"
   ]
  },
  {
   "cell_type": "code",
   "execution_count": 167,
   "id": "ec052747-2673-4809-9fd2-ff7326082d11",
   "metadata": {},
   "outputs": [
    {
     "data": {
      "text/html": [
       "<div>\n",
       "<style scoped>\n",
       "    .dataframe tbody tr th:only-of-type {\n",
       "        vertical-align: middle;\n",
       "    }\n",
       "\n",
       "    .dataframe tbody tr th {\n",
       "        vertical-align: top;\n",
       "    }\n",
       "\n",
       "    .dataframe thead th {\n",
       "        text-align: right;\n",
       "    }\n",
       "</style>\n",
       "<table border=\"1\" class=\"dataframe\">\n",
       "  <thead>\n",
       "    <tr style=\"text-align: right;\">\n",
       "      <th></th>\n",
       "      <th>elapedTime</th>\n",
       "      <th>test_mae</th>\n",
       "      <th>max_train_mae</th>\n",
       "      <th>anomaly</th>\n",
       "    </tr>\n",
       "    <tr>\n",
       "      <th>timeStamp</th>\n",
       "      <th></th>\n",
       "      <th></th>\n",
       "      <th></th>\n",
       "      <th></th>\n",
       "    </tr>\n",
       "  </thead>\n",
       "  <tbody>\n",
       "    <tr>\n",
       "      <th>2021-08-09 07:02:34</th>\n",
       "      <td>0.167484</td>\n",
       "      <td>0.141973</td>\n",
       "      <td>0.14</td>\n",
       "      <td>True</td>\n",
       "    </tr>\n",
       "  </tbody>\n",
       "</table>\n",
       "</div>"
      ],
      "text/plain": [
       "                     elapedTime  test_mae  max_train_mae  anomaly\n",
       "timeStamp                                                        \n",
       "2021-08-09 07:02:34    0.167484  0.141973           0.14     True"
      ]
     },
     "execution_count": 167,
     "metadata": {},
     "output_type": "execute_result"
    }
   ],
   "source": [
    "error_df[error_df.anomaly == True]"
   ]
  },
  {
   "cell_type": "code",
   "execution_count": null,
   "id": "2528b04e-7126-40fc-8d2f-db33541af759",
   "metadata": {},
   "outputs": [],
   "source": []
  },
  {
   "cell_type": "markdown",
   "id": "e5790478-b476-4d50-a608-04547df47943",
   "metadata": {},
   "source": [
    "#### Third Transaction"
   ]
  },
  {
   "cell_type": "code",
   "execution_count": 183,
   "id": "a17abcd0-3f6b-4979-b826-a9c6c9d44fee",
   "metadata": {},
   "outputs": [],
   "source": [
    "model.reset_states()"
   ]
  },
  {
   "cell_type": "code",
   "execution_count": 159,
   "id": "371d798d-11d6-4d95-80d8-f35db6b9e271",
   "metadata": {},
   "outputs": [],
   "source": [
    "model,train_error,val_error = model, history.history['loss'], history.history['val_loss']"
   ]
  },
  {
   "cell_type": "code",
   "execution_count": 160,
   "id": "5ec74303-87cd-4abb-a78c-8b56254151ec",
   "metadata": {},
   "outputs": [
    {
     "data": {
      "image/png": "[encoded data removed]",
      "text/plain": [
       "<Figure size 432x288 with 1 Axes>"
      ]
     },
     "metadata": {
      "needs_background": "light"
     },
     "output_type": "display_data"
    }
   ],
   "source": [
    "plot_error(train_error,val_error)"
   ]
  },
  {
   "cell_type": "code",
   "execution_count": 184,
   "id": "ee8494e1-5bbe-4345-b743-8c5acdb7e5d4",
   "metadata": {},
   "outputs": [
    {
     "name": "stdout",
     "output_type": "stream",
     "text": [
      "Reconstruction error threshold: 0.3763939668174192\n"
     ]
    },
    {
     "data": {
      "image/png": "[encoded data removed]",
      "text/plain": [
       "<Figure size 432x288 with 1 Axes>"
      ]
     },
     "metadata": {
      "needs_background": "light"
     },
     "output_type": "display_data"
    }
   ],
   "source": [
    "test_predict = model.predict(x_test)\n",
    "test_mae_loss = np.mean(np.abs(test_predict - x_test), axis=1)\n",
    "\n",
    "plt.hist(test_mae_loss, bins=50)\n",
    "plt.xlabel('Test MAE loss')\n",
    "plt.ylabel('Number of Samples');\n",
    "\n",
    "threshold = np.max(test_mae_loss)\n",
    "print(f'Reconstruction error threshold: {threshold}')"
   ]
  },
  {
   "cell_type": "code",
   "execution_count": 204,
   "id": "8ab2e09d-0737-40c7-a618-b52c3132c45c",
   "metadata": {},
   "outputs": [
    {
     "data": {
      "image/png": "[encoded data removed]",
      "text/plain": [
       "<Figure size 432x288 with 1 Axes>"
      ]
     },
     "metadata": {
      "needs_background": "light"
     },
     "output_type": "display_data"
    }
   ],
   "source": [
    "train_predict = model.predict(x_train)\n",
    "train_mea_loss = np.mean(np.abs(train_predict - x_train), axis=1)\n",
    "plt.hist(train_mea_loss, bins=50)\n",
    "max_train_mae = 0.30"
   ]
  },
  {
   "cell_type": "code",
   "execution_count": 205,
   "id": "3fe6634f-7e40-4d05-b055-7e6633305188",
   "metadata": {},
   "outputs": [
    {
     "data": {
      "image/png": "[encoded data removed]",
      "text/plain": [
       "<Figure size 432x288 with 1 Axes>"
      ]
     },
     "metadata": {
      "needs_background": "light"
     },
     "output_type": "display_data"
    }
   ],
   "source": [
    "test_predicted_avg = np.mean(np.abs(y_hat), axis=1)\n",
    "plot_data(y_test,test_predicted_avg)"
   ]
  },
  {
   "cell_type": "code",
   "execution_count": 206,
   "id": "9bf75ae9-6a26-4aeb-a3c5-4eaf29ef58fd",
   "metadata": {},
   "outputs": [],
   "source": [
    "error_df = pd.DataFrame(X_test_df[seq_size:])\n",
    "error_df['test_mae'] = test_mae_loss\n",
    "error_df['max_train_mae'] = max_train_mae\n",
    "error_df['anomaly'] = error_df['test_mae'] > error_df['max_train_mae']\n",
    "error_df['elapedTime'] = X_test_df[seq_size:]['elapedTime']"
   ]
  },
  {
   "cell_type": "code",
   "execution_count": 207,
   "id": "0277de00-73a5-4490-bbce-e829b1ca1f7c",
   "metadata": {},
   "outputs": [
    {
     "data": {
      "text/plain": [
       "<AxesSubplot:xlabel='timeStamp', ylabel='test_mae'>"
      ]
     },
     "execution_count": 207,
     "metadata": {},
     "output_type": "execute_result"
    },
    {
     "data": {
      "image/png": "[encoded data removed]",
      "text/plain": [
       "<Figure size 432x288 with 1 Axes>"
      ]
     },
     "metadata": {
      "needs_background": "light"
     },
     "output_type": "display_data"
    }
   ],
   "source": [
    "sns.lineplot(x=error_df.index, y=error_df['test_mae'])\n",
    "sns.lineplot(x=error_df.index, y=error_df['max_train_mae'])"
   ]
  },
  {
   "cell_type": "code",
   "execution_count": 214,
   "id": "171a9dfd-b4ac-4600-9356-6e3a328ba81b",
   "metadata": {},
   "outputs": [
    {
     "data": {
      "text/html": [
       "<div>\n",
       "<style scoped>\n",
       "    .dataframe tbody tr th:only-of-type {\n",
       "        vertical-align: middle;\n",
       "    }\n",
       "\n",
       "    .dataframe tbody tr th {\n",
       "        vertical-align: top;\n",
       "    }\n",
       "\n",
       "    .dataframe thead th {\n",
       "        text-align: right;\n",
       "    }\n",
       "</style>\n",
       "<table border=\"1\" class=\"dataframe\">\n",
       "  <thead>\n",
       "    <tr style=\"text-align: right;\">\n",
       "      <th></th>\n",
       "      <th>elapedTime</th>\n",
       "      <th>test_mae</th>\n",
       "      <th>max_train_mae</th>\n",
       "      <th>anomaly</th>\n",
       "    </tr>\n",
       "    <tr>\n",
       "      <th>timeStamp</th>\n",
       "      <th></th>\n",
       "      <th></th>\n",
       "      <th></th>\n",
       "      <th></th>\n",
       "    </tr>\n",
       "  </thead>\n",
       "  <tbody>\n",
       "    <tr>\n",
       "      <th>2021-08-09 07:01:57</th>\n",
       "      <td>1.000000</td>\n",
       "      <td>0.302799</td>\n",
       "      <td>0.3</td>\n",
       "      <td>True</td>\n",
       "    </tr>\n",
       "    <tr>\n",
       "      <th>2021-08-09 07:02:08</th>\n",
       "      <td>0.341490</td>\n",
       "      <td>0.303339</td>\n",
       "      <td>0.3</td>\n",
       "      <td>True</td>\n",
       "    </tr>\n",
       "    <tr>\n",
       "      <th>2021-08-09 07:02:09</th>\n",
       "      <td>0.506335</td>\n",
       "      <td>0.334244</td>\n",
       "      <td>0.3</td>\n",
       "      <td>True</td>\n",
       "    </tr>\n",
       "    <tr>\n",
       "      <th>2021-08-09 07:02:10</th>\n",
       "      <td>0.465069</td>\n",
       "      <td>0.307429</td>\n",
       "      <td>0.3</td>\n",
       "      <td>True</td>\n",
       "    </tr>\n",
       "    <tr>\n",
       "      <th>2021-08-09 07:02:12</th>\n",
       "      <td>0.308912</td>\n",
       "      <td>0.309508</td>\n",
       "      <td>0.3</td>\n",
       "      <td>True</td>\n",
       "    </tr>\n",
       "    <tr>\n",
       "      <th>2021-08-09 07:02:14</th>\n",
       "      <td>0.415768</td>\n",
       "      <td>0.344515</td>\n",
       "      <td>0.3</td>\n",
       "      <td>True</td>\n",
       "    </tr>\n",
       "    <tr>\n",
       "      <th>2021-08-09 07:02:14</th>\n",
       "      <td>0.497937</td>\n",
       "      <td>0.332923</td>\n",
       "      <td>0.3</td>\n",
       "      <td>True</td>\n",
       "    </tr>\n",
       "    <tr>\n",
       "      <th>2021-08-09 07:02:15</th>\n",
       "      <td>0.670238</td>\n",
       "      <td>0.311119</td>\n",
       "      <td>0.3</td>\n",
       "      <td>True</td>\n",
       "    </tr>\n",
       "    <tr>\n",
       "      <th>2021-08-09 07:02:17</th>\n",
       "      <td>0.503946</td>\n",
       "      <td>0.327411</td>\n",
       "      <td>0.3</td>\n",
       "      <td>True</td>\n",
       "    </tr>\n",
       "    <tr>\n",
       "      <th>2021-08-09 07:02:18</th>\n",
       "      <td>0.442916</td>\n",
       "      <td>0.316734</td>\n",
       "      <td>0.3</td>\n",
       "      <td>True</td>\n",
       "    </tr>\n",
       "    <tr>\n",
       "      <th>2021-08-09 07:02:18</th>\n",
       "      <td>0.555926</td>\n",
       "      <td>0.320549</td>\n",
       "      <td>0.3</td>\n",
       "      <td>True</td>\n",
       "    </tr>\n",
       "    <tr>\n",
       "      <th>2021-08-09 07:02:22</th>\n",
       "      <td>0.532397</td>\n",
       "      <td>0.302834</td>\n",
       "      <td>0.3</td>\n",
       "      <td>True</td>\n",
       "    </tr>\n",
       "    <tr>\n",
       "      <th>2021-08-09 07:02:26</th>\n",
       "      <td>0.491494</td>\n",
       "      <td>0.319415</td>\n",
       "      <td>0.3</td>\n",
       "      <td>True</td>\n",
       "    </tr>\n",
       "    <tr>\n",
       "      <th>2021-08-09 07:02:26</th>\n",
       "      <td>0.772316</td>\n",
       "      <td>0.318798</td>\n",
       "      <td>0.3</td>\n",
       "      <td>True</td>\n",
       "    </tr>\n",
       "    <tr>\n",
       "      <th>2021-08-09 07:02:28</th>\n",
       "      <td>0.440382</td>\n",
       "      <td>0.308066</td>\n",
       "      <td>0.3</td>\n",
       "      <td>True</td>\n",
       "    </tr>\n",
       "    <tr>\n",
       "      <th>2021-08-09 07:02:30</th>\n",
       "      <td>0.535220</td>\n",
       "      <td>0.327900</td>\n",
       "      <td>0.3</td>\n",
       "      <td>True</td>\n",
       "    </tr>\n",
       "    <tr>\n",
       "      <th>2021-08-09 07:02:31</th>\n",
       "      <td>0.247448</td>\n",
       "      <td>0.317993</td>\n",
       "      <td>0.3</td>\n",
       "      <td>True</td>\n",
       "    </tr>\n",
       "    <tr>\n",
       "      <th>2021-08-09 07:02:33</th>\n",
       "      <td>0.578223</td>\n",
       "      <td>0.373049</td>\n",
       "      <td>0.3</td>\n",
       "      <td>True</td>\n",
       "    </tr>\n",
       "    <tr>\n",
       "      <th>2021-08-09 07:02:33</th>\n",
       "      <td>0.270832</td>\n",
       "      <td>0.324262</td>\n",
       "      <td>0.3</td>\n",
       "      <td>True</td>\n",
       "    </tr>\n",
       "    <tr>\n",
       "      <th>2021-08-09 07:02:34</th>\n",
       "      <td>0.497647</td>\n",
       "      <td>0.370840</td>\n",
       "      <td>0.3</td>\n",
       "      <td>True</td>\n",
       "    </tr>\n",
       "    <tr>\n",
       "      <th>2021-08-09 07:02:34</th>\n",
       "      <td>0.474987</td>\n",
       "      <td>0.338864</td>\n",
       "      <td>0.3</td>\n",
       "      <td>True</td>\n",
       "    </tr>\n",
       "    <tr>\n",
       "      <th>2021-08-09 07:02:34</th>\n",
       "      <td>0.484688</td>\n",
       "      <td>0.326737</td>\n",
       "      <td>0.3</td>\n",
       "      <td>True</td>\n",
       "    </tr>\n",
       "    <tr>\n",
       "      <th>2021-08-09 07:02:34</th>\n",
       "      <td>0.389778</td>\n",
       "      <td>0.317781</td>\n",
       "      <td>0.3</td>\n",
       "      <td>True</td>\n",
       "    </tr>\n",
       "    <tr>\n",
       "      <th>2021-08-09 07:02:35</th>\n",
       "      <td>0.383045</td>\n",
       "      <td>0.333799</td>\n",
       "      <td>0.3</td>\n",
       "      <td>True</td>\n",
       "    </tr>\n",
       "    <tr>\n",
       "      <th>2021-08-09 07:02:36</th>\n",
       "      <td>0.197857</td>\n",
       "      <td>0.341940</td>\n",
       "      <td>0.3</td>\n",
       "      <td>True</td>\n",
       "    </tr>\n",
       "    <tr>\n",
       "      <th>2021-08-09 07:02:37</th>\n",
       "      <td>0.352494</td>\n",
       "      <td>0.376394</td>\n",
       "      <td>0.3</td>\n",
       "      <td>True</td>\n",
       "    </tr>\n",
       "    <tr>\n",
       "      <th>2021-08-09 07:02:39</th>\n",
       "      <td>0.278795</td>\n",
       "      <td>0.350420</td>\n",
       "      <td>0.3</td>\n",
       "      <td>True</td>\n",
       "    </tr>\n",
       "    <tr>\n",
       "      <th>2021-08-09 07:02:39</th>\n",
       "      <td>0.230290</td>\n",
       "      <td>0.359966</td>\n",
       "      <td>0.3</td>\n",
       "      <td>True</td>\n",
       "    </tr>\n",
       "    <tr>\n",
       "      <th>2021-08-09 07:02:39</th>\n",
       "      <td>0.243177</td>\n",
       "      <td>0.372404</td>\n",
       "      <td>0.3</td>\n",
       "      <td>True</td>\n",
       "    </tr>\n",
       "    <tr>\n",
       "      <th>2021-08-09 07:02:41</th>\n",
       "      <td>0.220589</td>\n",
       "      <td>0.359287</td>\n",
       "      <td>0.3</td>\n",
       "      <td>True</td>\n",
       "    </tr>\n",
       "    <tr>\n",
       "      <th>2021-08-09 07:02:41</th>\n",
       "      <td>0.234055</td>\n",
       "      <td>0.359356</td>\n",
       "      <td>0.3</td>\n",
       "      <td>True</td>\n",
       "    </tr>\n",
       "    <tr>\n",
       "      <th>2021-08-09 07:02:42</th>\n",
       "      <td>0.329110</td>\n",
       "      <td>0.349298</td>\n",
       "      <td>0.3</td>\n",
       "      <td>True</td>\n",
       "    </tr>\n",
       "    <tr>\n",
       "      <th>2021-08-09 07:02:43</th>\n",
       "      <td>0.098241</td>\n",
       "      <td>0.319286</td>\n",
       "      <td>0.3</td>\n",
       "      <td>True</td>\n",
       "    </tr>\n",
       "    <tr>\n",
       "      <th>2021-08-09 07:02:44</th>\n",
       "      <td>0.221168</td>\n",
       "      <td>0.356664</td>\n",
       "      <td>0.3</td>\n",
       "      <td>True</td>\n",
       "    </tr>\n",
       "    <tr>\n",
       "      <th>2021-08-09 07:02:44</th>\n",
       "      <td>0.215304</td>\n",
       "      <td>0.337593</td>\n",
       "      <td>0.3</td>\n",
       "      <td>True</td>\n",
       "    </tr>\n",
       "    <tr>\n",
       "      <th>2021-08-09 07:02:44</th>\n",
       "      <td>0.207269</td>\n",
       "      <td>0.324369</td>\n",
       "      <td>0.3</td>\n",
       "      <td>True</td>\n",
       "    </tr>\n",
       "    <tr>\n",
       "      <th>2021-08-09 07:02:45</th>\n",
       "      <td>0.132556</td>\n",
       "      <td>0.320840</td>\n",
       "      <td>0.3</td>\n",
       "      <td>True</td>\n",
       "    </tr>\n",
       "    <tr>\n",
       "      <th>2021-08-09 07:02:45</th>\n",
       "      <td>0.167885</td>\n",
       "      <td>0.324157</td>\n",
       "      <td>0.3</td>\n",
       "      <td>True</td>\n",
       "    </tr>\n",
       "    <tr>\n",
       "      <th>2021-08-09 07:02:46</th>\n",
       "      <td>0.249837</td>\n",
       "      <td>0.318903</td>\n",
       "      <td>0.3</td>\n",
       "      <td>True</td>\n",
       "    </tr>\n",
       "    <tr>\n",
       "      <th>2021-08-09 07:02:47</th>\n",
       "      <td>0.375588</td>\n",
       "      <td>0.313747</td>\n",
       "      <td>0.3</td>\n",
       "      <td>True</td>\n",
       "    </tr>\n",
       "    <tr>\n",
       "      <th>2021-08-09 07:05:45</th>\n",
       "      <td>0.318685</td>\n",
       "      <td>0.306657</td>\n",
       "      <td>0.3</td>\n",
       "      <td>True</td>\n",
       "    </tr>\n",
       "    <tr>\n",
       "      <th>2021-08-09 07:05:46</th>\n",
       "      <td>0.179469</td>\n",
       "      <td>0.301897</td>\n",
       "      <td>0.3</td>\n",
       "      <td>True</td>\n",
       "    </tr>\n",
       "    <tr>\n",
       "      <th>2021-08-09 07:05:47</th>\n",
       "      <td>0.503294</td>\n",
       "      <td>0.322640</td>\n",
       "      <td>0.3</td>\n",
       "      <td>True</td>\n",
       "    </tr>\n",
       "  </tbody>\n",
       "</table>\n",
       "</div>"
      ],
      "text/plain": [
       "                     elapedTime  test_mae  max_train_mae  anomaly\n",
       "timeStamp                                                        \n",
       "2021-08-09 07:01:57    1.000000  0.302799            0.3     True\n",
       "2021-08-09 07:02:08    0.341490  0.303339            0.3     True\n",
       "2021-08-09 07:02:09    0.506335  0.334244            0.3     True\n",
       "2021-08-09 07:02:10    0.465069  0.307429            0.3     True\n",
       "2021-08-09 07:02:12    0.308912  0.309508            0.3     True\n",
       "2021-08-09 07:02:14    0.415768  0.344515            0.3     True\n",
       "2021-08-09 07:02:14    0.497937  0.332923            0.3     True\n",
       "2021-08-09 07:02:15    0.670238  0.311119            0.3     True\n",
       "2021-08-09 07:02:17    0.503946  0.327411            0.3     True\n",
       "2021-08-09 07:02:18    0.442916  0.316734            0.3     True\n",
       "2021-08-09 07:02:18    0.555926  0.320549            0.3     True\n",
       "2021-08-09 07:02:22    0.532397  0.302834            0.3     True\n",
       "2021-08-09 07:02:26    0.491494  0.319415            0.3     True\n",
       "2021-08-09 07:02:26    0.772316  0.318798            0.3     True\n",
       "2021-08-09 07:02:28    0.440382  0.308066            0.3     True\n",
       "2021-08-09 07:02:30    0.535220  0.327900            0.3     True\n",
       "2021-08-09 07:02:31    0.247448  0.317993            0.3     True\n",
       "2021-08-09 07:02:33    0.578223  0.373049            0.3     True\n",
       "2021-08-09 07:02:33    0.270832  0.324262            0.3     True\n",
       "2021-08-09 07:02:34    0.497647  0.370840            0.3     True\n",
       "2021-08-09 07:02:34    0.474987  0.338864            0.3     True\n",
       "2021-08-09 07:02:34    0.484688  0.326737            0.3     True\n",
       "2021-08-09 07:02:34    0.389778  0.317781            0.3     True\n",
       "2021-08-09 07:02:35    0.383045  0.333799            0.3     True\n",
       "2021-08-09 07:02:36    0.197857  0.341940            0.3     True\n",
       "2021-08-09 07:02:37    0.352494  0.376394            0.3     True\n",
       "2021-08-09 07:02:39    0.278795  0.350420            0.3     True\n",
       "2021-08-09 07:02:39    0.230290  0.359966            0.3     True\n",
       "2021-08-09 07:02:39    0.243177  0.372404            0.3     True\n",
       "2021-08-09 07:02:41    0.220589  0.359287            0.3     True\n",
       "2021-08-09 07:02:41    0.234055  0.359356            0.3     True\n",
       "2021-08-09 07:02:42    0.329110  0.349298            0.3     True\n",
       "2021-08-09 07:02:43    0.098241  0.319286            0.3     True\n",
       "2021-08-09 07:02:44    0.221168  0.356664            0.3     True\n",
       "2021-08-09 07:02:44    0.215304  0.337593            0.3     True\n",
       "2021-08-09 07:02:44    0.207269  0.324369            0.3     True\n",
       "2021-08-09 07:02:45    0.132556  0.320840            0.3     True\n",
       "2021-08-09 07:02:45    0.167885  0.324157            0.3     True\n",
       "2021-08-09 07:02:46    0.249837  0.318903            0.3     True\n",
       "2021-08-09 07:02:47    0.375588  0.313747            0.3     True\n",
       "2021-08-09 07:05:45    0.318685  0.306657            0.3     True\n",
       "2021-08-09 07:05:46    0.179469  0.301897            0.3     True\n",
       "2021-08-09 07:05:47    0.503294  0.322640            0.3     True"
      ]
     },
     "execution_count": 214,
     "metadata": {},
     "output_type": "execute_result"
    }
   ],
   "source": [
    "anomalies = error_df.loc[error_df.anomaly == True]\n",
    "anomalies"
   ]
  },
  {
   "cell_type": "code",
   "execution_count": null,
   "id": "483d3ffc-8397-4de0-bfa3-f30ed7590907",
   "metadata": {},
   "outputs": [],
   "source": []
  }
 ],
 "metadata": {
  "kernelspec": {
   "display_name": "Python 3",
   "language": "python",
   "name": "python3"
  },
  "language_info": {
   "codemirror_mode": {
    "name": "ipython",
    "version": 3
   },
   "file_extension": ".py",
   "mimetype": "text/x-python",
   "name": "python",
   "nbconvert_exporter": "python",
   "pygments_lexer": "ipython3",
   "version": "3.8.8"
  }
 },
 "nbformat": 4,
 "nbformat_minor": 5
}
